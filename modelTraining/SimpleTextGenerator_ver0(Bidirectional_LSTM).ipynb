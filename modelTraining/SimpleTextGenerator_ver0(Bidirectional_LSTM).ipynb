{
  "nbformat": 4,
  "nbformat_minor": 0,
  "metadata": {
    "kernelspec": {
      "name": "python3",
      "display_name": "Python 3"
    },
    "language_info": {
      "codemirror_mode": {
        "name": "ipython",
        "version": 3
      },
      "file_extension": ".py",
      "mimetype": "text/x-python",
      "name": "python",
      "nbconvert_exporter": "python",
      "pygments_lexer": "ipython3",
      "version": "3.6.8"
    },
    "colab": {
      "name": "SimpleTextGenerator_ver0(Bidirectional_LSTM).ipynb",
      "provenance": [],
      "collapsed_sections": [],
      "toc_visible": true,
      "machine_shape": "hm",
      "include_colab_link": true
    }
  },
  "cells": [
    {
      "cell_type": "markdown",
      "metadata": {
        "id": "view-in-github",
        "colab_type": "text"
      },
      "source": [
        "<a href=\"https://colab.research.google.com/github/kmaciver/newsflash/blob/master/modelTraining/SimpleTextGenerator_ver0(Bidirectional_LSTM).ipynb\" target=\"_parent\"><img src=\"https://colab.research.google.com/assets/colab-badge.svg\" alt=\"Open In Colab\"/></a>"
      ]
    },
    {
      "cell_type": "code",
      "metadata": {
        "id": "EaM7JTIXuhfs",
        "colab_type": "code",
        "outputId": "8548fdbc-2387-4b32-90ed-d05ed71de615",
        "colab": {
          "base_uri": "https://localhost:8080/",
          "height": 120
        }
      },
      "source": [
        "from google.colab import drive\n",
        "drive.mount('/content/drive')"
      ],
      "execution_count": 0,
      "outputs": [
        {
          "output_type": "stream",
          "text": [
            "Go to this URL in a browser: https://accounts.google.com/o/oauth2/auth?client_id=947318989803-6bn6qk8qdgf4n4g3pfee6491hc0brc4i.apps.googleusercontent.com&redirect_uri=urn%3aietf%3awg%3aoauth%3a2.0%3aoob&response_type=code&scope=email%20https%3a%2f%2fwww.googleapis.com%2fauth%2fdocs.test%20https%3a%2f%2fwww.googleapis.com%2fauth%2fdrive%20https%3a%2f%2fwww.googleapis.com%2fauth%2fdrive.photos.readonly%20https%3a%2f%2fwww.googleapis.com%2fauth%2fpeopleapi.readonly\n",
            "\n",
            "Enter your authorization code:\n",
            "··········\n",
            "Mounted at /content/drive\n"
          ],
          "name": "stdout"
        }
      ]
    },
    {
      "cell_type": "markdown",
      "metadata": {
        "id": "egahf3uPspEg",
        "colab_type": "text"
      },
      "source": [
        "## Introduction\n",
        "\n",
        "The idea of this notebook is to model a simple text generator to predict next word on business headlines"
      ]
    },
    {
      "cell_type": "code",
      "metadata": {
        "id": "uVAOC2ppspEi",
        "colab_type": "code",
        "colab": {}
      },
      "source": [
        "import pandas as pd\n",
        "import numpy as np\n",
        "import matplotlib.pyplot as plt\n",
        "import tensorflow as tf\n",
        "import re\n",
        "import os\n",
        "import pickle\n",
        "from tensorflow.keras.preprocessing.text import text_to_word_sequence\n",
        "import warnings\n",
        "warnings.filterwarnings('ignore')"
      ],
      "execution_count": 0,
      "outputs": []
    },
    {
      "cell_type": "markdown",
      "metadata": {
        "id": "sGo457aaspEm",
        "colab_type": "text"
      },
      "source": [
        "## Data preparation "
      ]
    },
    {
      "cell_type": "code",
      "metadata": {
        "id": "W7M8yLMlspEo",
        "colab_type": "code",
        "outputId": "414ada2c-5992-4a78-f63d-120074bd3949",
        "colab": {
          "base_uri": "https://localhost:8080/",
          "height": 197
        }
      },
      "source": [
        "Data_train = pd.read_csv('/content/drive/My Drive/SharpestMinds/3. Generate Language Model/Dataset/train.csv', names=['Category Id','Title','Description'], header=0)\n",
        "Data_train.head()"
      ],
      "execution_count": 0,
      "outputs": [
        {
          "output_type": "execute_result",
          "data": {
            "text/html": [
              "<div>\n",
              "<style scoped>\n",
              "    .dataframe tbody tr th:only-of-type {\n",
              "        vertical-align: middle;\n",
              "    }\n",
              "\n",
              "    .dataframe tbody tr th {\n",
              "        vertical-align: top;\n",
              "    }\n",
              "\n",
              "    .dataframe thead th {\n",
              "        text-align: right;\n",
              "    }\n",
              "</style>\n",
              "<table border=\"1\" class=\"dataframe\">\n",
              "  <thead>\n",
              "    <tr style=\"text-align: right;\">\n",
              "      <th></th>\n",
              "      <th>Category Id</th>\n",
              "      <th>Title</th>\n",
              "      <th>Description</th>\n",
              "    </tr>\n",
              "  </thead>\n",
              "  <tbody>\n",
              "    <tr>\n",
              "      <th>0</th>\n",
              "      <td>3</td>\n",
              "      <td>Carlyle Looks Toward Commercial Aerospace (Reu...</td>\n",
              "      <td>Reuters - Private investment firm Carlyle Grou...</td>\n",
              "    </tr>\n",
              "    <tr>\n",
              "      <th>1</th>\n",
              "      <td>3</td>\n",
              "      <td>Oil and Economy Cloud Stocks' Outlook (Reuters)</td>\n",
              "      <td>Reuters - Soaring crude prices plus worries\\ab...</td>\n",
              "    </tr>\n",
              "    <tr>\n",
              "      <th>2</th>\n",
              "      <td>3</td>\n",
              "      <td>Iraq Halts Oil Exports from Main Southern Pipe...</td>\n",
              "      <td>Reuters - Authorities have halted oil export\\f...</td>\n",
              "    </tr>\n",
              "    <tr>\n",
              "      <th>3</th>\n",
              "      <td>3</td>\n",
              "      <td>Oil prices soar to all-time record, posing new...</td>\n",
              "      <td>AFP - Tearaway world oil prices, toppling reco...</td>\n",
              "    </tr>\n",
              "    <tr>\n",
              "      <th>4</th>\n",
              "      <td>3</td>\n",
              "      <td>Stocks End Up, But Near Year Lows (Reuters)</td>\n",
              "      <td>Reuters - Stocks ended slightly higher on Frid...</td>\n",
              "    </tr>\n",
              "  </tbody>\n",
              "</table>\n",
              "</div>"
            ],
            "text/plain": [
              "   Category Id  ...                                        Description\n",
              "0            3  ...  Reuters - Private investment firm Carlyle Grou...\n",
              "1            3  ...  Reuters - Soaring crude prices plus worries\\ab...\n",
              "2            3  ...  Reuters - Authorities have halted oil export\\f...\n",
              "3            3  ...  AFP - Tearaway world oil prices, toppling reco...\n",
              "4            3  ...  Reuters - Stocks ended slightly higher on Frid...\n",
              "\n",
              "[5 rows x 3 columns]"
            ]
          },
          "metadata": {
            "tags": []
          },
          "execution_count": 4
        }
      ]
    },
    {
      "cell_type": "code",
      "metadata": {
        "id": "C8hhspuPspEu",
        "colab_type": "code",
        "outputId": "5bbbede4-1d66-4f48-f1f4-96a5ac7c368b",
        "colab": {
          "base_uri": "https://localhost:8080/",
          "height": 347
        }
      },
      "source": [
        "Data_test = pd.read_csv('/content/drive/My Drive/SharpestMinds/3. Generate Language Model/Dataset/test.csv', names=['Category Id','Title','Description'], header=0)\n",
        "Data_test.head(10)"
      ],
      "execution_count": 0,
      "outputs": [
        {
          "output_type": "execute_result",
          "data": {
            "text/html": [
              "<div>\n",
              "<style scoped>\n",
              "    .dataframe tbody tr th:only-of-type {\n",
              "        vertical-align: middle;\n",
              "    }\n",
              "\n",
              "    .dataframe tbody tr th {\n",
              "        vertical-align: top;\n",
              "    }\n",
              "\n",
              "    .dataframe thead th {\n",
              "        text-align: right;\n",
              "    }\n",
              "</style>\n",
              "<table border=\"1\" class=\"dataframe\">\n",
              "  <thead>\n",
              "    <tr style=\"text-align: right;\">\n",
              "      <th></th>\n",
              "      <th>Category Id</th>\n",
              "      <th>Title</th>\n",
              "      <th>Description</th>\n",
              "    </tr>\n",
              "  </thead>\n",
              "  <tbody>\n",
              "    <tr>\n",
              "      <th>0</th>\n",
              "      <td>4</td>\n",
              "      <td>The Race is On: Second Private Team Sets Launc...</td>\n",
              "      <td>SPACE.com - TORONTO, Canada -- A second\\team o...</td>\n",
              "    </tr>\n",
              "    <tr>\n",
              "      <th>1</th>\n",
              "      <td>4</td>\n",
              "      <td>Ky. Company Wins Grant to Study Peptides (AP)</td>\n",
              "      <td>AP - A company founded by a chemistry research...</td>\n",
              "    </tr>\n",
              "    <tr>\n",
              "      <th>2</th>\n",
              "      <td>4</td>\n",
              "      <td>Prediction Unit Helps Forecast Wildfires (AP)</td>\n",
              "      <td>AP - It's barely dawn when Mike Fitzpatrick st...</td>\n",
              "    </tr>\n",
              "    <tr>\n",
              "      <th>3</th>\n",
              "      <td>4</td>\n",
              "      <td>Calif. Aims to Limit Farm-Related Smog (AP)</td>\n",
              "      <td>AP - Southern California's smog-fighting agenc...</td>\n",
              "    </tr>\n",
              "    <tr>\n",
              "      <th>4</th>\n",
              "      <td>4</td>\n",
              "      <td>Open Letter Against British Copyright Indoctri...</td>\n",
              "      <td>The British Department for Education and Skill...</td>\n",
              "    </tr>\n",
              "    <tr>\n",
              "      <th>5</th>\n",
              "      <td>4</td>\n",
              "      <td>Loosing the War on Terrorism</td>\n",
              "      <td>\\\\\"Sven Jaschan, self-confessed author of the ...</td>\n",
              "    </tr>\n",
              "    <tr>\n",
              "      <th>6</th>\n",
              "      <td>4</td>\n",
              "      <td>FOAFKey: FOAF, PGP, Key Distribution, and Bloo...</td>\n",
              "      <td>\\\\FOAF/LOAF  and bloom filters have a lot of i...</td>\n",
              "    </tr>\n",
              "    <tr>\n",
              "      <th>7</th>\n",
              "      <td>4</td>\n",
              "      <td>E-mail scam targets police chief</td>\n",
              "      <td>Wiltshire Police warns about \"phishing\" after ...</td>\n",
              "    </tr>\n",
              "    <tr>\n",
              "      <th>8</th>\n",
              "      <td>4</td>\n",
              "      <td>Card fraud unit nets 36,000 cards</td>\n",
              "      <td>In its first two years, the UK's dedicated car...</td>\n",
              "    </tr>\n",
              "    <tr>\n",
              "      <th>9</th>\n",
              "      <td>4</td>\n",
              "      <td>Group to Propose New High-Speed Wireless Format</td>\n",
              "      <td>LOS ANGELES (Reuters) - A group of technology...</td>\n",
              "    </tr>\n",
              "  </tbody>\n",
              "</table>\n",
              "</div>"
            ],
            "text/plain": [
              "   Category Id  ...                                        Description\n",
              "0            4  ...  SPACE.com - TORONTO, Canada -- A second\\team o...\n",
              "1            4  ...  AP - A company founded by a chemistry research...\n",
              "2            4  ...  AP - It's barely dawn when Mike Fitzpatrick st...\n",
              "3            4  ...  AP - Southern California's smog-fighting agenc...\n",
              "4            4  ...  The British Department for Education and Skill...\n",
              "5            4  ...  \\\\\"Sven Jaschan, self-confessed author of the ...\n",
              "6            4  ...  \\\\FOAF/LOAF  and bloom filters have a lot of i...\n",
              "7            4  ...  Wiltshire Police warns about \"phishing\" after ...\n",
              "8            4  ...  In its first two years, the UK's dedicated car...\n",
              "9            4  ...   LOS ANGELES (Reuters) - A group of technology...\n",
              "\n",
              "[10 rows x 3 columns]"
            ]
          },
          "metadata": {
            "tags": []
          },
          "execution_count": 5
        }
      ]
    },
    {
      "cell_type": "code",
      "metadata": {
        "id": "kQr_4YsrspEy",
        "colab_type": "code",
        "outputId": "49f60c5f-68e2-436c-9bb6-af5d97cd7dd4",
        "colab": {
          "base_uri": "https://localhost:8080/",
          "height": 197
        }
      },
      "source": [
        "data = pd.concat([Data_train, Data_test], ignore_index=True)\n",
        "data.head()"
      ],
      "execution_count": 0,
      "outputs": [
        {
          "output_type": "execute_result",
          "data": {
            "text/html": [
              "<div>\n",
              "<style scoped>\n",
              "    .dataframe tbody tr th:only-of-type {\n",
              "        vertical-align: middle;\n",
              "    }\n",
              "\n",
              "    .dataframe tbody tr th {\n",
              "        vertical-align: top;\n",
              "    }\n",
              "\n",
              "    .dataframe thead th {\n",
              "        text-align: right;\n",
              "    }\n",
              "</style>\n",
              "<table border=\"1\" class=\"dataframe\">\n",
              "  <thead>\n",
              "    <tr style=\"text-align: right;\">\n",
              "      <th></th>\n",
              "      <th>Category Id</th>\n",
              "      <th>Title</th>\n",
              "      <th>Description</th>\n",
              "    </tr>\n",
              "  </thead>\n",
              "  <tbody>\n",
              "    <tr>\n",
              "      <th>0</th>\n",
              "      <td>3</td>\n",
              "      <td>Carlyle Looks Toward Commercial Aerospace (Reu...</td>\n",
              "      <td>Reuters - Private investment firm Carlyle Grou...</td>\n",
              "    </tr>\n",
              "    <tr>\n",
              "      <th>1</th>\n",
              "      <td>3</td>\n",
              "      <td>Oil and Economy Cloud Stocks' Outlook (Reuters)</td>\n",
              "      <td>Reuters - Soaring crude prices plus worries\\ab...</td>\n",
              "    </tr>\n",
              "    <tr>\n",
              "      <th>2</th>\n",
              "      <td>3</td>\n",
              "      <td>Iraq Halts Oil Exports from Main Southern Pipe...</td>\n",
              "      <td>Reuters - Authorities have halted oil export\\f...</td>\n",
              "    </tr>\n",
              "    <tr>\n",
              "      <th>3</th>\n",
              "      <td>3</td>\n",
              "      <td>Oil prices soar to all-time record, posing new...</td>\n",
              "      <td>AFP - Tearaway world oil prices, toppling reco...</td>\n",
              "    </tr>\n",
              "    <tr>\n",
              "      <th>4</th>\n",
              "      <td>3</td>\n",
              "      <td>Stocks End Up, But Near Year Lows (Reuters)</td>\n",
              "      <td>Reuters - Stocks ended slightly higher on Frid...</td>\n",
              "    </tr>\n",
              "  </tbody>\n",
              "</table>\n",
              "</div>"
            ],
            "text/plain": [
              "   Category Id  ...                                        Description\n",
              "0            3  ...  Reuters - Private investment firm Carlyle Grou...\n",
              "1            3  ...  Reuters - Soaring crude prices plus worries\\ab...\n",
              "2            3  ...  Reuters - Authorities have halted oil export\\f...\n",
              "3            3  ...  AFP - Tearaway world oil prices, toppling reco...\n",
              "4            3  ...  Reuters - Stocks ended slightly higher on Frid...\n",
              "\n",
              "[5 rows x 3 columns]"
            ]
          },
          "metadata": {
            "tags": []
          },
          "execution_count": 6
        }
      ]
    },
    {
      "cell_type": "code",
      "metadata": {
        "id": "Ct4mHBDispE1",
        "colab_type": "code",
        "colab": {}
      },
      "source": [
        "data= data.loc[data['Category Id']==3]"
      ],
      "execution_count": 0,
      "outputs": []
    },
    {
      "cell_type": "code",
      "metadata": {
        "id": "hRN_kIFkspE4",
        "colab_type": "code",
        "colab": {}
      },
      "source": [
        "data = data.drop(columns=['Category Id'])"
      ],
      "execution_count": 0,
      "outputs": []
    },
    {
      "cell_type": "markdown",
      "metadata": {
        "id": "RzsmCX2NspE9",
        "colab_type": "text"
      },
      "source": [
        "Looking at the text is possible to see that some words aren't going to be usefull for our purpose.\n",
        "\n",
        "Examples are:\n",
        "* Numbers\n",
        "* Html references\n",
        "* Names of the publishers that appear twice, e.g. (Reuters) Reuters, (AP) AP etc "
      ]
    },
    {
      "cell_type": "code",
      "metadata": {
        "id": "EnRF1nBospE-",
        "colab_type": "code",
        "outputId": "e2a9fa9e-3525-4603-ca36-4e0bbafd1e45",
        "colab": {
          "base_uri": "https://localhost:8080/",
          "height": 197
        }
      },
      "source": [
        "def publishers(text):\n",
        "    pub = re.search(r\"\\(.*\\)\",text)\n",
        "    if pub != None:\n",
        "        return(pub.group(0))\n",
        "    else:\n",
        "        return(\"\")\n",
        "\n",
        "data['publishers']=data['Title'].apply(publishers)\n",
        "data.head()"
      ],
      "execution_count": 0,
      "outputs": [
        {
          "output_type": "execute_result",
          "data": {
            "text/html": [
              "<div>\n",
              "<style scoped>\n",
              "    .dataframe tbody tr th:only-of-type {\n",
              "        vertical-align: middle;\n",
              "    }\n",
              "\n",
              "    .dataframe tbody tr th {\n",
              "        vertical-align: top;\n",
              "    }\n",
              "\n",
              "    .dataframe thead th {\n",
              "        text-align: right;\n",
              "    }\n",
              "</style>\n",
              "<table border=\"1\" class=\"dataframe\">\n",
              "  <thead>\n",
              "    <tr style=\"text-align: right;\">\n",
              "      <th></th>\n",
              "      <th>Title</th>\n",
              "      <th>Description</th>\n",
              "      <th>publishers</th>\n",
              "    </tr>\n",
              "  </thead>\n",
              "  <tbody>\n",
              "    <tr>\n",
              "      <th>0</th>\n",
              "      <td>Carlyle Looks Toward Commercial Aerospace (Reu...</td>\n",
              "      <td>Reuters - Private investment firm Carlyle Grou...</td>\n",
              "      <td>(Reuters)</td>\n",
              "    </tr>\n",
              "    <tr>\n",
              "      <th>1</th>\n",
              "      <td>Oil and Economy Cloud Stocks' Outlook (Reuters)</td>\n",
              "      <td>Reuters - Soaring crude prices plus worries\\ab...</td>\n",
              "      <td>(Reuters)</td>\n",
              "    </tr>\n",
              "    <tr>\n",
              "      <th>2</th>\n",
              "      <td>Iraq Halts Oil Exports from Main Southern Pipe...</td>\n",
              "      <td>Reuters - Authorities have halted oil export\\f...</td>\n",
              "      <td>(Reuters)</td>\n",
              "    </tr>\n",
              "    <tr>\n",
              "      <th>3</th>\n",
              "      <td>Oil prices soar to all-time record, posing new...</td>\n",
              "      <td>AFP - Tearaway world oil prices, toppling reco...</td>\n",
              "      <td>(AFP)</td>\n",
              "    </tr>\n",
              "    <tr>\n",
              "      <th>4</th>\n",
              "      <td>Stocks End Up, But Near Year Lows (Reuters)</td>\n",
              "      <td>Reuters - Stocks ended slightly higher on Frid...</td>\n",
              "      <td>(Reuters)</td>\n",
              "    </tr>\n",
              "  </tbody>\n",
              "</table>\n",
              "</div>"
            ],
            "text/plain": [
              "                                               Title  ... publishers\n",
              "0  Carlyle Looks Toward Commercial Aerospace (Reu...  ...  (Reuters)\n",
              "1    Oil and Economy Cloud Stocks' Outlook (Reuters)  ...  (Reuters)\n",
              "2  Iraq Halts Oil Exports from Main Southern Pipe...  ...  (Reuters)\n",
              "3  Oil prices soar to all-time record, posing new...  ...      (AFP)\n",
              "4        Stocks End Up, But Near Year Lows (Reuters)  ...  (Reuters)\n",
              "\n",
              "[5 rows x 3 columns]"
            ]
          },
          "metadata": {
            "tags": []
          },
          "execution_count": 9
        }
      ]
    },
    {
      "cell_type": "code",
      "metadata": {
        "id": "Ap_9A49hspFB",
        "colab_type": "code",
        "colab": {}
      },
      "source": [
        "def htmlLinks(text):\n",
        "    links = re.search(r\"&lt;A HREF.+?(target.+;.+;)\",text)\n",
        "    if links != None:\n",
        "        return(links.group(0))\n",
        "    else:\n",
        "        return(\"\")\n",
        "\n",
        "data['links']=data['Description'].apply(htmlLinks)"
      ],
      "execution_count": 0,
      "outputs": []
    },
    {
      "cell_type": "code",
      "metadata": {
        "id": "eDrDxO3AspFE",
        "colab_type": "code",
        "colab": {}
      },
      "source": [
        "def clean_publishers(text,publisher):\n",
        "    if publisher != \"\":\n",
        "        return(text.replace(publisher,\" \"))\n",
        "    else:\n",
        "        return(text)\n",
        "    \n",
        "data['Title'] = np.vectorize(clean_publishers)(data['Title'], data['publishers'])\n",
        "\n",
        "def clean_publishers_description(text,publisher):\n",
        "    if publisher != \"\":\n",
        "        return(text.replace(publisher[1:-1],\" \"))\n",
        "    else:\n",
        "        return(text)\n",
        "\n",
        "data['Description']= np.vectorize(clean_publishers_description)(data['Description'], data['publishers'])"
      ],
      "execution_count": 0,
      "outputs": []
    },
    {
      "cell_type": "code",
      "metadata": {
        "id": "iuc0mkwLspFK",
        "colab_type": "code",
        "colab": {}
      },
      "source": [
        "def clean_links(text,links):\n",
        "    if links != \"\":\n",
        "        return(text.replace(links,\" \"))\n",
        "    else:\n",
        "        return(text)\n",
        "    \n",
        "data['Description'] = np.vectorize(clean_publishers)(data['Description'], data['links'])"
      ],
      "execution_count": 0,
      "outputs": []
    },
    {
      "cell_type": "code",
      "metadata": {
        "id": "6MSxDBfgcK4b",
        "colab_type": "code",
        "outputId": "36153457-abcd-46f6-a522-27d0ae2784a0",
        "colab": {
          "base_uri": "https://localhost:8080/",
          "height": 33
        }
      },
      "source": [
        "len(data)"
      ],
      "execution_count": 0,
      "outputs": [
        {
          "output_type": "execute_result",
          "data": {
            "text/plain": [
              "31898"
            ]
          },
          "metadata": {
            "tags": []
          },
          "execution_count": 13
        }
      ]
    },
    {
      "cell_type": "code",
      "metadata": {
        "id": "T8x1fwWDspFO",
        "colab_type": "code",
        "colab": {}
      },
      "source": [
        "data['length_Title'] = data['Title'].str.len() \n",
        "data['length_Description'] = data['Description'].str.len()"
      ],
      "execution_count": 0,
      "outputs": []
    },
    {
      "cell_type": "code",
      "metadata": {
        "id": "RxXp-4LGspFR",
        "colab_type": "code",
        "colab": {}
      },
      "source": [
        "np.savetxt(r'/content/drive/My Drive/SharpestMinds/3. Generate Language Model/Dataset/data.txt', data.iloc[:,0:2].values, fmt='%s')"
      ],
      "execution_count": 0,
      "outputs": []
    },
    {
      "cell_type": "code",
      "metadata": {
        "id": "1vwy0O_aspFU",
        "colab_type": "code",
        "colab": {}
      },
      "source": [
        "text = open('/content/drive/My Drive/SharpestMinds/3. Generate Language Model/Dataset/data.txt', 'rb').read().decode(encoding='utf-8')"
      ],
      "execution_count": 0,
      "outputs": []
    },
    {
      "cell_type": "markdown",
      "metadata": {
        "id": "7kHgur2HspFX",
        "colab_type": "text"
      },
      "source": [
        "## Generating vocabulary on most frequent words"
      ]
    },
    {
      "cell_type": "code",
      "metadata": {
        "id": "W6hvdlLispFY",
        "colab_type": "code",
        "colab": {}
      },
      "source": [
        "tokens = text_to_word_sequence(text,  filters='!\"#$%&()*+,-./:;<=>?@[\\\\]^_`{|}~\\t\\n\\r0123456789'+\"'\")\n"
      ],
      "execution_count": 0,
      "outputs": []
    },
    {
      "cell_type": "code",
      "metadata": {
        "id": "uzW5_gPgHYcn",
        "colab_type": "code",
        "outputId": "f79822ba-a771-4c39-8fbd-f1640df28042",
        "colab": {
          "base_uri": "https://localhost:8080/",
          "height": 33
        }
      },
      "source": [
        "len(tokens)"
      ],
      "execution_count": 0,
      "outputs": [
        {
          "output_type": "execute_result",
          "data": {
            "text/plain": [
              "1186071"
            ]
          },
          "metadata": {
            "tags": []
          },
          "execution_count": 18
        }
      ]
    },
    {
      "cell_type": "code",
      "metadata": {
        "id": "WeuySwmsspFc",
        "colab_type": "code",
        "colab": {}
      },
      "source": [
        "vocab_dict={}\n",
        "\n",
        "for word in tokens:\n",
        "    if word in vocab_dict:\n",
        "        vocab_dict[word] += 1\n",
        "    else:\n",
        "        vocab_dict[word] = 1\n",
        "\n",
        "vocab_words = []\n",
        "vocab_freq=[]\n",
        "\n",
        "for k,v in vocab_dict.items():\n",
        "    vocab_freq.append(v)\n",
        "    vocab_words.append(k)"
      ],
      "execution_count": 0,
      "outputs": []
    },
    {
      "cell_type": "code",
      "metadata": {
        "id": "Nybfp8hN_MLr",
        "colab_type": "code",
        "colab": {}
      },
      "source": [
        "wordFreqDf = pd.DataFrame(list(zip(vocab_words, vocab_freq)), columns =['Words', 'Freq'])\n",
        "wordFreqDf = wordFreqDf.sort_values(by='Freq', ascending=False)\n",
        "\n",
        "# Get words the top 20% frequently used words\n",
        "TopwordFreqDf = wordFreqDf[wordFreqDf['Freq']>=np.percentile(wordFreqDf['Freq'].values,80)]\n",
        "vocab = TopwordFreqDf['Words'].values"
      ],
      "execution_count": 0,
      "outputs": []
    },
    {
      "cell_type": "markdown",
      "metadata": {
        "id": "_uCBZnat_rkb",
        "colab_type": "text"
      },
      "source": [
        "Since the model will be trained on the most common words, a Wildcard Token will be added to the vocab in order to deal with words outside of the top words vocabulary"
      ]
    },
    {
      "cell_type": "code",
      "metadata": {
        "id": "Rf_4Je-Y_tNJ",
        "colab_type": "code",
        "outputId": "7ac09978-9fbf-4706-98e9-a410bacdebd4",
        "colab": {
          "base_uri": "https://localhost:8080/",
          "height": 33
        }
      },
      "source": [
        "vocab = np.append(vocab, '<Unkown>')\n",
        "vocab = list(vocab)\n",
        "print ('{} unique characters'.format(len(vocab)))"
      ],
      "execution_count": 0,
      "outputs": [
        {
          "output_type": "stream",
          "text": [
            "5567 unique characters\n"
          ],
          "name": "stdout"
        }
      ]
    },
    {
      "cell_type": "markdown",
      "metadata": {
        "id": "UogevoEm_yY0",
        "colab_type": "text"
      },
      "source": [
        "## Generating emmbeding matrix based on Glove "
      ]
    },
    {
      "cell_type": "code",
      "metadata": {
        "id": "aIsl5oYHspFg",
        "colab_type": "code",
        "colab": {}
      },
      "source": [
        "def loadGloveModel(gloveFile):\n",
        "    print(\"Loading Glove Model\")\n",
        "    model = {}\n",
        "    with open(gloveFile,encoding=\"utf8\") as f:\n",
        "        for line in f:\n",
        "            splitLine = line.split()\n",
        "            word = splitLine[0]\n",
        "            embedding = np.array([float(val) for val in splitLine[1:]])\n",
        "            model[word] = embedding\n",
        "    print(\"Done.\",len(model),\" words loaded!\")\n",
        "    return model"
      ],
      "execution_count": 0,
      "outputs": []
    },
    {
      "cell_type": "code",
      "metadata": {
        "id": "1hFrK8Y6spFj",
        "colab_type": "code",
        "outputId": "59500fde-bed6-4290-e008-f1a9e5efcaf5",
        "colab": {
          "base_uri": "https://localhost:8080/",
          "height": 52
        }
      },
      "source": [
        "gloveEmb = loadGloveModel('/content/drive/My Drive/SharpestMinds/3. Generate Language Model/Dataset/Glove Embedding/glove.6B.100d.txt')"
      ],
      "execution_count": 0,
      "outputs": [
        {
          "output_type": "stream",
          "text": [
            "Loading Glove Model\n",
            "Done. 400000  words loaded!\n"
          ],
          "name": "stdout"
        }
      ]
    },
    {
      "cell_type": "markdown",
      "metadata": {
        "id": "eeWR4_BnspFm",
        "colab_type": "text"
      },
      "source": [
        "Because of the data and the techniques applied during cleaning, it is possible to have some **Out-Of-Vocabulary words (OOV)**, that means words that are not in the downloaded Glove dictionary"
      ]
    },
    {
      "cell_type": "code",
      "metadata": {
        "id": "ZCFcQz8JspFm",
        "colab_type": "code",
        "colab": {}
      },
      "source": [
        "embedded = np.zeros(shape=(len(vocab),100))\n",
        "\n",
        "for i in range(0,len(vocab)):\n",
        "    try:\n",
        "        embedded[i] = gloveEmb[vocab[i]]\n",
        "    except:\n",
        "        continue"
      ],
      "execution_count": 0,
      "outputs": []
    },
    {
      "cell_type": "code",
      "metadata": {
        "id": "qsAjAM3B_-al",
        "colab_type": "code",
        "outputId": "9da0505d-a6dd-46e5-c5e2-8000549a73bc",
        "colab": {
          "base_uri": "https://localhost:8080/",
          "height": 35
        }
      },
      "source": [
        "embedded.shape"
      ],
      "execution_count": 0,
      "outputs": [
        {
          "output_type": "execute_result",
          "data": {
            "text/plain": [
              "(5567, 100)"
            ]
          },
          "metadata": {
            "tags": []
          },
          "execution_count": 23
        }
      ]
    },
    {
      "cell_type": "code",
      "metadata": {
        "id": "-i0Er_KRUpGC",
        "colab_type": "code",
        "colab": {}
      },
      "source": [
        "import pickle\n",
        "\n",
        "# Save vocab\n",
        "with open('/content/drive/My Drive/SharpestMinds/3. Generate Language Model/Bidirectional_LSTM_model/DocsToLoad/vocab.data', 'wb') as filehandle:\n",
        "    # store the data as binary data stream\n",
        "    pickle.dump(vocab, filehandle)\n",
        "\n",
        "# Save embedded\n",
        "np.save('/content/drive/My Drive/SharpestMinds/3. Generate Language Model/Bidirectional_LSTM_model/DocsToLoad/embedded.npy', embedded)"
      ],
      "execution_count": 0,
      "outputs": []
    },
    {
      "cell_type": "markdown",
      "metadata": {
        "id": "V4PbDwFpspFx",
        "colab_type": "text"
      },
      "source": [
        "## Create Train data"
      ]
    },
    {
      "cell_type": "code",
      "metadata": {
        "id": "_TTWXzjSspFy",
        "colab_type": "code",
        "colab": {}
      },
      "source": [
        "# Separate text file by lines\n",
        "TextLines = open('/content/drive/My Drive/SharpestMinds/3. Generate Language Model/Dataset/data.txt').readlines()"
      ],
      "execution_count": 0,
      "outputs": []
    },
    {
      "cell_type": "code",
      "metadata": {
        "id": "j-ln331MspF1",
        "colab_type": "code",
        "outputId": "e6134dd4-0294-4db0-f086-9873b1395395",
        "colab": {
          "base_uri": "https://localhost:8080/",
          "height": 33
        }
      },
      "source": [
        "len(TextLines)"
      ],
      "execution_count": 0,
      "outputs": [
        {
          "output_type": "execute_result",
          "data": {
            "text/plain": [
              "31898"
            ]
          },
          "metadata": {
            "tags": []
          },
          "execution_count": 13
        }
      ]
    },
    {
      "cell_type": "code",
      "metadata": {
        "id": "xqdzzDfxspF3",
        "colab_type": "code",
        "outputId": "0f14914f-62fe-41f2-81bc-df5f290860f4",
        "colab": {
          "base_uri": "https://localhost:8080/",
          "height": 33
        }
      },
      "source": [
        "from sklearn.model_selection import train_test_split\n",
        "\n",
        "# Validation list\n",
        "TrainLines, TestLines = train_test_split(TextLines, test_size=0.10, random_state=42)\n",
        "\n",
        "print(len(TrainLines),len(TestLines))"
      ],
      "execution_count": 0,
      "outputs": [
        {
          "output_type": "stream",
          "text": [
            "28708 3190\n"
          ],
          "name": "stdout"
        }
      ]
    },
    {
      "cell_type": "code",
      "metadata": {
        "id": "8f4uV0QhspF7",
        "colab_type": "code",
        "colab": {}
      },
      "source": [
        "def generate_text_sequences(Lines, pastWords, vocab):\n",
        "    X_line = list()\n",
        "    Y_line = list()\n",
        "    pastWords = pastWords\n",
        "    for line in Lines:\n",
        "        # Tokenize line\n",
        "        lineTokenized = text_to_word_sequence(line,  filters='!\"#$%&()*+,-./:;<=>?@[\\\\]^_`{|}~\\t\\n\\r0123456789'+\"'\")\n",
        "        #Get line length\n",
        "        lengthLine = len(lineTokenized)\n",
        "        lineBatch = lengthLine-pastWords\n",
        "        \n",
        "        # Substitute words outside vocab with <Unkown>\n",
        "        for idx in range(0,len(lineTokenized)):\n",
        "            if lineTokenized[idx] in vocab:\n",
        "                continue\n",
        "            else:\n",
        "                lineTokenized[idx] = '<Unkown>'\n",
        "        \n",
        "        #Crate sequences of text \n",
        "        for i in range(0,lineBatch):\n",
        "            X_sequence = lineTokenized[i:i+pastWords]\n",
        "            X_line.append(X_sequence)\n",
        "            Y_sequence = lineTokenized[i+pastWords]\n",
        "            Y_line.append(Y_sequence)\n",
        "    \n",
        "    return(X_line, Y_line)"
      ],
      "execution_count": 0,
      "outputs": []
    },
    {
      "cell_type": "code",
      "metadata": {
        "id": "143jV1muspF_",
        "colab_type": "code",
        "outputId": "2f2da812-21aa-4781-abcb-e1140745dfcd",
        "colab": {
          "base_uri": "https://localhost:8080/",
          "height": 178
        }
      },
      "source": [
        "pastWords = 5  # number of words to look back for prediction\n",
        "X_lineTrain, Y_lineTrain = generate_text_sequences(TrainLines, pastWords, vocab)"
      ],
      "execution_count": 0,
      "outputs": [
        {
          "output_type": "error",
          "ename": "NameError",
          "evalue": "ignored",
          "traceback": [
            "\u001b[0;31m---------------------------------------------------------------------------\u001b[0m",
            "\u001b[0;31mNameError\u001b[0m                                 Traceback (most recent call last)",
            "\u001b[0;32m<ipython-input-6-c63ed2538543>\u001b[0m in \u001b[0;36m<module>\u001b[0;34m()\u001b[0m\n\u001b[1;32m      1\u001b[0m \u001b[0mpastWords\u001b[0m \u001b[0;34m=\u001b[0m \u001b[0;36m5\u001b[0m  \u001b[0;31m# number of words to look back for prediction\u001b[0m\u001b[0;34m\u001b[0m\u001b[0;34m\u001b[0m\u001b[0m\n\u001b[0;32m----> 2\u001b[0;31m \u001b[0mX_lineTrain\u001b[0m\u001b[0;34m,\u001b[0m \u001b[0mY_lineTrain\u001b[0m \u001b[0;34m=\u001b[0m \u001b[0mgenerate_text_sequences\u001b[0m\u001b[0;34m(\u001b[0m\u001b[0mTrainLines\u001b[0m\u001b[0;34m,\u001b[0m \u001b[0mpastWords\u001b[0m\u001b[0;34m,\u001b[0m \u001b[0mvocab\u001b[0m\u001b[0;34m)\u001b[0m\u001b[0;34m\u001b[0m\u001b[0;34m\u001b[0m\u001b[0m\n\u001b[0m",
            "\u001b[0;31mNameError\u001b[0m: name 'TrainLines' is not defined"
          ]
        }
      ]
    },
    {
      "cell_type": "code",
      "metadata": {
        "id": "RhC2aoUlspGE",
        "colab_type": "code",
        "outputId": "594f22f8-3d06-45cd-a1f5-0bfd68993ef7",
        "colab": {
          "base_uri": "https://localhost:8080/",
          "height": 162
        }
      },
      "source": [
        "print(len(X_lineTrain), len(Y_lineTrain))"
      ],
      "execution_count": 0,
      "outputs": [
        {
          "output_type": "error",
          "ename": "NameError",
          "evalue": "ignored",
          "traceback": [
            "\u001b[0;31m---------------------------------------------------------------------------\u001b[0m",
            "\u001b[0;31mNameError\u001b[0m                                 Traceback (most recent call last)",
            "\u001b[0;32m<ipython-input-7-0fa527049c35>\u001b[0m in \u001b[0;36m<module>\u001b[0;34m()\u001b[0m\n\u001b[0;32m----> 1\u001b[0;31m \u001b[0mprint\u001b[0m\u001b[0;34m(\u001b[0m\u001b[0mlen\u001b[0m\u001b[0;34m(\u001b[0m\u001b[0mX_lineTrain\u001b[0m\u001b[0;34m)\u001b[0m\u001b[0;34m,\u001b[0m \u001b[0mlen\u001b[0m\u001b[0;34m(\u001b[0m\u001b[0mY_lineTrain\u001b[0m\u001b[0;34m)\u001b[0m\u001b[0;34m)\u001b[0m\u001b[0;34m\u001b[0m\u001b[0;34m\u001b[0m\u001b[0m\n\u001b[0m",
            "\u001b[0;31mNameError\u001b[0m: name 'X_lineTrain' is not defined"
          ]
        }
      ]
    },
    {
      "cell_type": "markdown",
      "metadata": {
        "id": "vY6cwk43spGH",
        "colab_type": "text"
      },
      "source": [
        "Creating a batch generator for training data. Converting the whole dataset will take too much memory"
      ]
    },
    {
      "cell_type": "code",
      "metadata": {
        "id": "QnsD7DaFspGI",
        "colab_type": "code",
        "colab": {}
      },
      "source": [
        "from tensorflow.keras.utils import to_categorical\n",
        "import random as rand\n",
        "from random import randint\n",
        "from random import seed\n",
        "rand.seed(4)\n",
        "\n",
        "def batch_generator_data(batchsize, X_line, Y_line, embDim, pastWords, embedded, vocab):\n",
        "    embDim=embDim\n",
        "    pastWords = pastWords\n",
        "    x_batch = np.zeros(shape=(batchsize,pastWords,embDim))\n",
        "    y_batch = np.zeros(shape=(batchsize))\n",
        "\n",
        "    while True:\n",
        "        # Fill the batch with random continuous sequences of data.\n",
        "\n",
        "        # Get a random start-index.\n",
        "        # This points somewhere into the data.\n",
        "        idx = np.random.randint(len(X_line) - batchsize)\n",
        "\n",
        "        for i in range(0,batchsize):\n",
        "            x_batch[i] = [embedded[vocab.index(x)] for x in X_line[idx+i]]\n",
        "            y_batch[i] = vocab.index(Y_line[idx+i])\n",
        "\n",
        "        #y_batch = to_categorical(y_batch, num_classes=len(vocab))\n",
        "        \n",
        "        yield (x_batch, y_batch)"
      ],
      "execution_count": 0,
      "outputs": []
    },
    {
      "cell_type": "code",
      "metadata": {
        "id": "_RPzoBNpspGL",
        "colab_type": "code",
        "outputId": "b7859d8c-cdfa-4055-d9bc-bcf86bff8234",
        "colab": {
          "base_uri": "https://localhost:8080/",
          "height": 195
        }
      },
      "source": [
        "embDim = 100 #shape of the embbeded latent space\n",
        "batchsize = 300 #batch size for each training step\n",
        "generator = batch_generator_data(batchsize,X_lineTrain, Y_lineTrain, embDim, pastWords, embedded, vocab)"
      ],
      "execution_count": 0,
      "outputs": [
        {
          "output_type": "error",
          "ename": "NameError",
          "evalue": "ignored",
          "traceback": [
            "\u001b[0;31m---------------------------------------------------------------------------\u001b[0m",
            "\u001b[0;31mNameError\u001b[0m                                 Traceback (most recent call last)",
            "\u001b[0;32m<ipython-input-10-2d62a5f6bc1a>\u001b[0m in \u001b[0;36m<module>\u001b[0;34m()\u001b[0m\n\u001b[1;32m      1\u001b[0m \u001b[0membDim\u001b[0m \u001b[0;34m=\u001b[0m \u001b[0;36m100\u001b[0m \u001b[0;31m#shape of the embbeded latent space\u001b[0m\u001b[0;34m\u001b[0m\u001b[0;34m\u001b[0m\u001b[0m\n\u001b[1;32m      2\u001b[0m \u001b[0mbatchsize\u001b[0m \u001b[0;34m=\u001b[0m \u001b[0;36m300\u001b[0m \u001b[0;31m#batch size for each training step\u001b[0m\u001b[0;34m\u001b[0m\u001b[0;34m\u001b[0m\u001b[0m\n\u001b[0;32m----> 3\u001b[0;31m \u001b[0mgenerator\u001b[0m \u001b[0;34m=\u001b[0m \u001b[0mbatch_generator_data\u001b[0m\u001b[0;34m(\u001b[0m\u001b[0mbatchsize\u001b[0m\u001b[0;34m,\u001b[0m\u001b[0mX_lineTrain\u001b[0m\u001b[0;34m,\u001b[0m \u001b[0mY_lineTrain\u001b[0m\u001b[0;34m,\u001b[0m \u001b[0membDim\u001b[0m\u001b[0;34m,\u001b[0m \u001b[0mpastWords\u001b[0m\u001b[0;34m,\u001b[0m \u001b[0membedded\u001b[0m\u001b[0;34m,\u001b[0m \u001b[0mvocab\u001b[0m\u001b[0;34m)\u001b[0m\u001b[0;34m\u001b[0m\u001b[0;34m\u001b[0m\u001b[0m\n\u001b[0m",
            "\u001b[0;31mNameError\u001b[0m: name 'X_lineTrain' is not defined"
          ]
        }
      ]
    },
    {
      "cell_type": "code",
      "metadata": {
        "id": "F1r3F-aFspGO",
        "colab_type": "code",
        "colab": {}
      },
      "source": [
        "X_train_batch, Y_train_batch = next(generator)"
      ],
      "execution_count": 0,
      "outputs": []
    },
    {
      "cell_type": "code",
      "metadata": {
        "id": "ieqsti0BspGR",
        "colab_type": "code",
        "outputId": "a3cdca7e-0191-4ad6-e227-022fd15f727f",
        "colab": {
          "base_uri": "https://localhost:8080/",
          "height": 52
        }
      },
      "source": [
        "print(X_train_batch.shape)\n",
        "print(Y_train_batch.shape)"
      ],
      "execution_count": 0,
      "outputs": [
        {
          "output_type": "stream",
          "text": [
            "(300, 5, 100)\n",
            "(300,)\n"
          ],
          "name": "stdout"
        }
      ]
    },
    {
      "cell_type": "markdown",
      "metadata": {
        "id": "NN20nYf7spGU",
        "colab_type": "text"
      },
      "source": [
        "**Generate Validation data**"
      ]
    },
    {
      "cell_type": "code",
      "metadata": {
        "id": "grZtUqW3spGV",
        "colab_type": "code",
        "colab": {}
      },
      "source": [
        "X_lineTest, Y_lineTest = generate_text_sequences(TestLines, pastWords, vocab)\n",
        "valgenerator = batch_generator_data(batchsize,X_lineTest, Y_lineTest, embDim, pastWords, embedded, vocab)"
      ],
      "execution_count": 0,
      "outputs": []
    },
    {
      "cell_type": "code",
      "metadata": {
        "id": "L2aFt930H_Kt",
        "colab_type": "code",
        "outputId": "5e5621c0-a7ef-4d7c-ba04-a90b92989742",
        "colab": {
          "base_uri": "https://localhost:8080/",
          "height": 35
        }
      },
      "source": [
        "print(len(X_lineTest), len(Y_lineTest))"
      ],
      "execution_count": 0,
      "outputs": [
        {
          "output_type": "stream",
          "text": [
            "103138 103138\n"
          ],
          "name": "stdout"
        }
      ]
    },
    {
      "cell_type": "code",
      "metadata": {
        "id": "JyoxdaynspGX",
        "colab_type": "code",
        "colab": {}
      },
      "source": [
        "X_test_batch, Y_test_batch = next(valgenerator)"
      ],
      "execution_count": 0,
      "outputs": []
    },
    {
      "cell_type": "code",
      "metadata": {
        "id": "s0uQYPu_spGa",
        "colab_type": "code",
        "outputId": "2322e146-18a6-4618-dfe2-1a84fbe67181",
        "colab": {
          "base_uri": "https://localhost:8080/",
          "height": 52
        }
      },
      "source": [
        "print(X_test_batch.shape)\n",
        "print(Y_test_batch.shape)"
      ],
      "execution_count": 0,
      "outputs": [
        {
          "output_type": "stream",
          "text": [
            "(300, 5, 100)\n",
            "(300,)\n"
          ],
          "name": "stdout"
        }
      ]
    },
    {
      "cell_type": "markdown",
      "metadata": {
        "id": "Bxr1dtLGspGe",
        "colab_type": "text"
      },
      "source": [
        "## Create Model "
      ]
    },
    {
      "cell_type": "code",
      "metadata": {
        "id": "D-SoSdV7spGe",
        "colab_type": "code",
        "outputId": "20a3b99e-43c9-4675-c592-0daa0580dba5",
        "colab": {
          "base_uri": "https://localhost:8080/",
          "height": 277
        }
      },
      "source": [
        "from tensorflow.keras.models import Sequential\n",
        "from tensorflow.keras.layers import Input, Dense, GRU, LSTM, Bidirectional\n",
        "from tensorflow.keras.optimizers import RMSprop\n",
        "from keras import losses\n",
        "\n",
        "\n",
        "model = Sequential()\n",
        "model.add(Bidirectional(LSTM(units=500, return_sequences=True),input_shape=(pastWords,embDim)))\n",
        "model.add(LSTM(units=200))\n",
        "model.add(Dense(len(vocab), activation='softmax'))\n",
        "model.summary()"
      ],
      "execution_count": 0,
      "outputs": [
        {
          "output_type": "stream",
          "text": [
            "Using TensorFlow backend.\n"
          ],
          "name": "stderr"
        },
        {
          "output_type": "stream",
          "text": [
            "Model: \"sequential\"\n",
            "_________________________________________________________________\n",
            "Layer (type)                 Output Shape              Param #   \n",
            "=================================================================\n",
            "bidirectional (Bidirectional (None, 5, 1000)           2404000   \n",
            "_________________________________________________________________\n",
            "lstm_1 (LSTM)                (None, 200)               960800    \n",
            "_________________________________________________________________\n",
            "dense (Dense)                (None, 5567)              1118967   \n",
            "=================================================================\n",
            "Total params: 4,483,767\n",
            "Trainable params: 4,483,767\n",
            "Non-trainable params: 0\n",
            "_________________________________________________________________\n"
          ],
          "name": "stdout"
        }
      ]
    },
    {
      "cell_type": "code",
      "metadata": {
        "id": "Skz2e-zTspGj",
        "colab_type": "code",
        "colab": {}
      },
      "source": [
        "from tensorflow.keras.callbacks import ModelCheckpoint, ReduceLROnPlateau, EarlyStopping\n",
        "\n",
        "optimizer = RMSprop(lr=0.001)\n",
        "\n",
        "model.compile(loss='sparse_categorical_crossentropy', optimizer=optimizer)\n",
        "\n",
        "model_file = \"/content/drive/My Drive/SharpestMinds/3. Generate Language Model/Bidirectional_LSTM_model/train_log/simpleTextGenerator.{epoch:02d}-{loss:.2f}.h5\"\n",
        "\n",
        "mc = ModelCheckpoint(model_file, monitor=\"loss\", mode=\"min\", save_best_only=True)\n",
        "\n",
        "reduce_lr = ReduceLROnPlateau(monitor='val_loss', factor=0.2,\n",
        "                              patience=4, min_lr=1e-4)\n",
        "\n",
        "es = EarlyStopping(monitor='loss', min_delta=0.01, patience=5, mode='min')"
      ],
      "execution_count": 0,
      "outputs": []
    },
    {
      "cell_type": "code",
      "metadata": {
        "id": "SjOcGu9zspGl",
        "colab_type": "code",
        "colab": {}
      },
      "source": [
        "%%time\n",
        "#model = tf.keras.models.load_model('/content/drive/My Drive/SharpestMinds/3. Generate Language Model/simpleTextGenerator.46-3.28.h5')\n",
        "\n",
        "history = model.fit_generator(generator=generator,\n",
        "                    epochs=500,\n",
        "                    steps_per_epoch= len(X_lineTrain)//batchsize,\n",
        "                    validation_data=valgenerator,\n",
        "                    validation_steps= len(X_lineTest)//batchsize,\n",
        "                    callbacks=[mc, reduce_lr, es])\n",
        "                    #,initial_epoch=46)"
      ],
      "execution_count": 0,
      "outputs": []
    },
    {
      "cell_type": "code",
      "metadata": {
        "id": "e6INU3pQGPMP",
        "colab_type": "code",
        "colab": {}
      },
      "source": [
        "hist_df = pd.DataFrame(history.history) \n",
        "hist_csv_file = model_file.split('.')[0]+'.csv'\n",
        "with open(hist_csv_file, mode='w') as f:\n",
        "    hist_df.to_csv(f)"
      ],
      "execution_count": 0,
      "outputs": []
    },
    {
      "cell_type": "code",
      "metadata": {
        "id": "AXLEx8loGVs3",
        "colab_type": "code",
        "outputId": "af83814f-947c-4522-915e-3bf688109d0c",
        "colab": {
          "base_uri": "https://localhost:8080/",
          "height": 35
        }
      },
      "source": [
        "saveDrivePath = '/content/drive/My Drive/SharpestMinds/3. Generate Language Model/Bidirectional_LSTM_model/'\n",
        "h5FilePath = '/content/'+ model_file\n",
        "#historyFilePath = '/content/' + hist_csv_file\n",
        "\n",
        "os.system(\"mv \"+'\"'+h5FilePath+'\"' + \" \" + '\"'+saveDrivePath+'\"' )\n",
        "os.system(\"mv \"+'\"'+historyFilePath+'\"' + \" \" + '\"'+saveDrivePath+'\"' )"
      ],
      "execution_count": 0,
      "outputs": [
        {
          "output_type": "execute_result",
          "data": {
            "text/plain": [
              "0"
            ]
          },
          "metadata": {
            "tags": []
          },
          "execution_count": 175
        }
      ]
    },
    {
      "cell_type": "markdown",
      "metadata": {
        "id": "se1ab9b-AuHi",
        "colab_type": "text"
      },
      "source": [
        "## Load Model, Vocab and Embedded if already trained "
      ]
    },
    {
      "cell_type": "code",
      "metadata": {
        "id": "zFXBmO1rspGn",
        "colab_type": "code",
        "outputId": "b93489fe-6228-4021-87bd-d134a6eae52e",
        "colab": {
          "base_uri": "https://localhost:8080/",
          "height": 33
        }
      },
      "source": [
        "model = tf.keras.models.load_model('/content/drive/My Drive/SharpestMinds/3. Generate Language Model/Bidirectional_LSTM_model/DocsToLoad/simpleTextGenerator.56-3.08.h5')\n",
        "\n",
        "# Read Vocabulary of data\n",
        "vocab = []\n",
        "\n",
        "with open('/content/drive/My Drive/SharpestMinds/3. Generate Language Model/Bidirectional_LSTM_model/DocsToLoad/vocab.data', 'rb') as filehandle:\n",
        "    # read the data as binary data stream\n",
        "    vocab = pickle.load(filehandle)\n",
        "    \n",
        "print ('{} unique characters'.format(len(vocab)))"
      ],
      "execution_count": 0,
      "outputs": [
        {
          "output_type": "stream",
          "text": [
            "5567 unique characters\n"
          ],
          "name": "stdout"
        }
      ]
    },
    {
      "cell_type": "code",
      "metadata": {
        "id": "aFGALlHuX61B",
        "colab_type": "code",
        "outputId": "8372f7b1-7d6b-40de-b937-592c40def0f8",
        "colab": {
          "base_uri": "https://localhost:8080/",
          "height": 33
        }
      },
      "source": [
        "# Read embedded spaces of vocab data\n",
        "\n",
        "embedded = np.load('/content/drive/My Drive/SharpestMinds/3. Generate Language Model/Bidirectional_LSTM_model/DocsToLoad/embedded.npy')\n",
        "\n",
        "print(embedded.shape)"
      ],
      "execution_count": 0,
      "outputs": [
        {
          "output_type": "stream",
          "text": [
            "(5567, 100)\n"
          ],
          "name": "stdout"
        }
      ]
    },
    {
      "cell_type": "markdown",
      "metadata": {
        "id": "jjNxjH4YYDXS",
        "colab_type": "text"
      },
      "source": [
        "## Evaluate Model"
      ]
    },
    {
      "cell_type": "markdown",
      "metadata": {
        "id": "dyoEAD8sYFoo",
        "colab_type": "text"
      },
      "source": [
        "For this project we'll like to get the top 4 predictions for the next word. The model will be evaluated by checking if the next word was in the top 4 predictions made by the model. Then we'll calculate the rate of sucess were that ocurred.\n",
        "\n"
      ]
    },
    {
      "cell_type": "code",
      "metadata": {
        "id": "AO90HtysYEzj",
        "colab_type": "code",
        "colab": {}
      },
      "source": [
        "def generateInputArray(inputs):\n",
        "  embDim = embedded.shape[1]\n",
        "  x_sample =[]\n",
        "  for x in inputs:\n",
        "    if x in vocab:\n",
        "      x_sample.append(embedded[list(vocab).index(x)])\n",
        "    else:\n",
        "      x_sample.append(np.zeros(embDim))\n",
        "\n",
        "  x_sample = np.array(x_sample)\n",
        "  x_sample = np.expand_dims(x_sample, axis=0)\n",
        "  return(x_sample)\n",
        "  \n",
        "def generatecandidates(text):\n",
        "  textToken = tf.keras.preprocessing.text.text_to_word_sequence(str(text),  filters='!\"#$%&()*+,-./:;<=>?@[\\\\]^_`{|}~\\t\\n\\r0123456789'+\"'\")   \n",
        "  \n",
        "  x_sample = generateInputArray(textToken[-5:])\n",
        "  \n",
        "  y_sample = model.predict(x_sample)\n",
        "  \n",
        "  # Get top 50 candidates\n",
        "  ind = np.argpartition(y_sample[0,:], -50)[-50:]\n",
        "\n",
        "  candidates=dict()\n",
        "  for i in ind:\n",
        "    if vocab[i] != \"<Unkown>\":\n",
        "      candidates[vocab[i]] = y_sample[0,i]\n",
        "\n",
        "  return(candidates)"
      ],
      "execution_count": 0,
      "outputs": []
    },
    {
      "cell_type": "code",
      "metadata": {
        "id": "GGXo9QKmYQ3B",
        "colab_type": "code",
        "colab": {}
      },
      "source": [
        "X_line, Y_line = generate_text_sequences(TestLines, pastWords, vocab)"
      ],
      "execution_count": 0,
      "outputs": []
    },
    {
      "cell_type": "code",
      "metadata": {
        "id": "z-bHqeCEYSzp",
        "colab_type": "code",
        "outputId": "0dda1d10-7154-4388-f02e-12f657fb46cb",
        "colab": {
          "base_uri": "https://localhost:8080/",
          "height": 33
        }
      },
      "source": [
        "points=0\n",
        "TotalPredictions = 0\n",
        "for i in range(0, len(TestLines)):\n",
        "    # Verify if the correct word is in the top-50 words predicted\n",
        "    candidates = generatecandidates(X_line[i])\n",
        "    if Y_line[i] == '<Unkown>':\n",
        "        continue\n",
        "    else:\n",
        "        if Y_line[i] in candidates.keys():\n",
        "            word_prob = list(candidates.keys()).index(Y_line[i])\n",
        "            p = np.array(list(candidates.values()))\n",
        "            points += 1 - p[word_prob] \n",
        "            TotalPredictions +=1\n",
        "        else:\n",
        "            points+=1\n",
        "            TotalPredictions +=1\n",
        "\n",
        "print(\"Metric between the distribution probability of the next word\", points)"
      ],
      "execution_count": 0,
      "outputs": [
        {
          "output_type": "stream",
          "text": [
            "Metric between the distribution probability of the next word 2433.4333511351497\n"
          ],
          "name": "stdout"
        }
      ]
    },
    {
      "cell_type": "code",
      "metadata": {
        "id": "v7RkmP3WhcM1",
        "colab_type": "code",
        "colab": {}
      },
      "source": [
        ""
      ],
      "execution_count": 0,
      "outputs": []
    }
  ]
}